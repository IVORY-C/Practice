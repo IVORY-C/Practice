{
 "nbformat": 4,
 "nbformat_minor": 2,
 "metadata": {
  "language_info": {
   "name": "python",
   "codemirror_mode": {
    "name": "ipython",
    "version": 3
   },
   "version": "3.7.6-final"
  },
  "orig_nbformat": 2,
  "file_extension": ".py",
  "mimetype": "text/x-python",
  "name": "python",
  "npconvert_exporter": "python",
  "pygments_lexer": "ipython3",
  "version": 3,
  "kernelspec": {
   "name": "python3",
   "display_name": "Python 3"
  }
 },
 "cells": [
  {
   "cell_type": "code",
   "execution_count": 1,
   "metadata": {},
   "outputs": [],
   "source": [
    "class Josephus:\n",
    "    '约瑟夫环'\n",
    "\n",
    "    def __init__(self, step, start, target):\n",
    "        self.step = step\n",
    "        self.start = start\n",
    "        self.target = list(target)  #取目标字典的key作为目标数组\n",
    "        self.length = len(self.target)\n",
    "\n",
    "    def josephus_bymod(self):\n",
    "        result = []\n",
    "\n",
    "        rank = self.start\n",
    "        for i in range(self.length):\n",
    "            rank = (rank + self.step - 1) % len(self.target)\n",
    "            index = self.target.pop(rank)\n",
    "            result.append(index) \n",
    "        \n",
    "        return result\n",
    "\n",
    "    def josephus_circular(self):#用函数之间的差别命名\n",
    "        result = []\n",
    "\n",
    "        self.start = self.start % self.length\n",
    "        self.target = self.target[self.start:] + self.target[:self.start] \n",
    "\n",
    "        for i in range(self.length):\n",
    "            cut = self.step % len(self.target)\n",
    "            self.target = self.target[cut-1:] + self.target[:cut-1]\n",
    "            index = self.target.pop(0)\n",
    "            result.append(index)\n",
    "\n",
    "        return result\n",
    ""
   ]
  },
  {
   "cell_type": "code",
   "execution_count": 2,
   "metadata": {},
   "outputs": [],
   "source": [
    "#输出数组\n",
    "def print_list(target, start, end):\n",
    "    for i in range(start, end + 1):\n",
    "        print(target[i], end=\" \")"
   ]
  },
  {
   "cell_type": "code",
   "execution_count": 3,
   "metadata": {},
   "outputs": [],
   "source": [
    "#输出字典\n",
    "def print_dict(target, start, end):\n",
    "    key_list = list(target)\n",
    "    for i in range(start, end + 1):\n",
    "        key = key_list[i]\n",
    "        print('    {}:{}'. format(key, target[key]))"
   ]
  },
  {
   "cell_type": "code",
   "execution_count": 4,
   "metadata": {},
   "outputs": [],
   "source": [
    "#根据原字典，把含有key的数组变成新字典\n",
    "def list2dict(origin_dict, key_list):\n",
    "    result = {}\n",
    "    for i in range(len(key_list)):\n",
    "        key = key_list[i]\n",
    "        result[key] = target[key]\n",
    "    return result"
   ]
  },
  {
   "cell_type": "code",
   "execution_count": 5,
   "metadata": {},
   "outputs": [],
   "source": [
    "#target = ['Morty','Rick','Summer','Beth','Jerry']\n",
    "target = {'Morty':[12,'male'],'Rick':[53,'male'],'Summer':[16,'female'],'Beth':[34,'female'],'Jerry':[36,'male']}"
   ]
  },
  {
   "cell_type": "code",
   "execution_count": 6,
   "metadata": {},
   "outputs": [
    {
     "output_type": "stream",
     "name": "stdout",
     "text": "输入对象的姓名：\nMorty Rick Summer Beth Jerry \n出列顺序：\nBeth Rick Morty Summer \n获胜者：Jerry\n------------------------------\n输入对象：\n    Morty:[12, 'male']\n    Rick:[53, 'male']\n    Summer:[16, 'female']\n    Beth:[34, 'female']\n    Jerry:[36, 'male']\n出列顺序：\n    Beth:[34, 'female']\n    Rick:[53, 'male']\n    Morty:[12, 'male']\n    Summer:[16, 'female']\n获胜者：\n    Jerry:[36, 'male']\n"
    }
   ],
   "source": [
    "length = len(target)\n",
    "target_name = list(target)\n",
    "j = Josephus(3, 6, target)\n",
    "result_name = j.josephus_circular()\n",
    "result_dict = list2dict(target, result_name)\n",
    "\n",
    "print(\"输入对象的姓名：\")\n",
    "print_list(target_name, 0, length-1)\n",
    "print(\"\\n出列顺序：\")\n",
    "print_list(result_name, 0, length-2)\n",
    "print(\"\\n获胜者：{}\". format(result_name[-1]))\n",
    "\n",
    "print('-' * 30)\n",
    "\n",
    "print(\"输入对象：\")\n",
    "print_dict(target, 0, length-1)\n",
    "print(\"出列顺序：\")\n",
    "print_dict(result_dict, 0, length-2)\n",
    "winner = result_name[-1]\n",
    "print(\"获胜者：\\n    {}:{}\". format(winner, result_dict[winner]))"
   ]
  }
 ]
}