{
 "nbformat": 4,
 "nbformat_minor": 2,
 "metadata": {
  "language_info": {
   "name": "python",
   "codemirror_mode": {
    "name": "ipython",
    "version": 3
   },
   "version": "3.7.6-final"
  },
  "orig_nbformat": 2,
  "file_extension": ".py",
  "mimetype": "text/x-python",
  "name": "python",
  "npconvert_exporter": "python",
  "pygments_lexer": "ipython3",
  "version": 3,
  "kernelspec": {
   "name": "python3",
   "display_name": "Python 3"
  }
 },
 "cells": [
  {
   "cell_type": "code",
   "execution_count": 83,
   "metadata": {},
   "outputs": [],
   "source": [
    "class Josephus:\n",
    "    '约瑟夫环'\n",
    "\n",
    "    def __init__(self, step, start, target):\n",
    "        self.step = step\n",
    "        self.start = start\n",
    "        self.target = list(target)  #取目标字典的key作为目标数组\n",
    "        self.length = len(self.target)\n",
    "\n",
    "    def josephus_bymod(self):\n",
    "        result = []\n",
    "\n",
    "        rank = self.start\n",
    "        for i in range(self.length):\n",
    "            rank = (rank + self.step - 1) % len(self.target)\n",
    "            index = self.target.pop(rank)\n",
    "            result.append(index) \n",
    "        \n",
    "        return result\n",
    "\n",
    "    def josephus_circular(self):#用函数之间的差别命名\n",
    "        result = []\n",
    "\n",
    "        self.start = self.start % self.length\n",
    "        self.target = self.target[self.start:] + self.target[:self.start] \n",
    "\n",
    "        for i in range(self.length):\n",
    "            cut = self.step % len(self.target)\n",
    "            self.target = self.target[cut-1:] + self.target[:cut-1]\n",
    "            index = self.target.pop(0)\n",
    "            result.append(index)\n",
    "\n",
    "        return result\n",
    ""
   ]
  },
  {
   "cell_type": "code",
   "execution_count": 79,
   "metadata": {},
   "outputs": [],
   "source": [
    "class PrintResult:\n",
    "    '输出结果'\n",
    "\n",
    "    def __init__(self, target, result):\n",
    "        self.target = target\n",
    "        self.result = result\n",
    "        self.name = list(result)\n",
    "        self.length = len(result)\n",
    "\n",
    "    def print_name(self):\n",
    "        origin_name = list(self.target)\n",
    "\n",
    "        print(\"输入对象为：\", end=\"\")\n",
    "        for i in range(self.length):\n",
    "            print(origin_name[i], end=\" \")\n",
    "\n",
    "        print(\"\\n出列顺序为：\", end=\"\")\n",
    "        for i in range(self.length-1):\n",
    "            print(self.name[i], end=\" \")  \n",
    "                    \n",
    "        print(\"\\n获胜者为：%s\" %self.name[self.length-1])\n",
    "\n",
    "    def print_dict(self):\n",
    "        print(\"输入对象为：\")\n",
    "        for key,value in self.target.items():\n",
    "            print('    {}:{}'. format(key, value))\n",
    "\n",
    "        print(\"出列顺序为：\")\n",
    "        for i in range(self.length - 1):\n",
    "            key = self.name[i]\n",
    "            print('    {}:{}'. format(key, self.result[key]))\n",
    "        \n",
    "        winner_name = self.name[self.length - 1]\n",
    "        print(\"获胜者为：\\n    {}:{}\". format(winner_name, self.result[winner_name]))\n",
    "\n",
    "\n",
    "#疑问：应该着重用户使用时的方便，还是着重代码的简洁？\n"
   ]
  },
  {
   "cell_type": "code",
   "execution_count": 62,
   "metadata": {},
   "outputs": [],
   "source": [
    "#根据原字典，把含有key的数组变成新字典\n",
    "def list2dict(origin_dict, key_list):\n",
    "    result = {}\n",
    "    for i in range(len(key_list)):\n",
    "        key = key_list[i]\n",
    "        result[key] = target[key]\n",
    "    return result"
   ]
  },
  {
   "cell_type": "code",
   "execution_count": 86,
   "metadata": {},
   "outputs": [
    {
     "output_type": "stream",
     "name": "stdout",
     "text": "输入对象为：\n    Morty:[12, 'male']\n    Rick:[53, 'male']\n    Summer:[16, 'female']\n    Beth:[34, 'female']\n    Jerry:[36, 'male']\n出列顺序为：\n    Beth:[34, 'female']\n    Rick:[53, 'male']\n    Morty:[12, 'male']\n    Summer:[16, 'female']\n获胜者为：\n    Jerry:[36, 'male']\n只输出名字的情况：\n输入对象为：Morty Rick Summer Beth Jerry \n出列顺序为：Beth Rick Morty Summer \n获胜者为：Jerry\n"
    }
   ],
   "source": [
    "#target = ['Morty','Rick','Summer','Beth','Jerry']\n",
    "target = {'Morty':[12,'male'],'Rick':[53,'male'],'Summer':[16,'female'],'Beth':[34,'female'],'Jerry':[36,'male']}\n",
    "\n",
    "j = Josephus(3, 6, target)\n",
    "result_name = j.josephus_circular()\n",
    "result = list2dict(target, result_name)\n",
    "\n",
    "p = PrintResult(target,result)\n",
    "p.print_dict()\n",
    "\n",
    "print(\"只输出名字的情况：\")\n",
    "p.print_name()\n",
    "\n",
    ""
   ]
  },
  {
   "cell_type": "code",
   "execution_count": null,
   "metadata": {},
   "outputs": [],
   "source": []
  }
 ]
}