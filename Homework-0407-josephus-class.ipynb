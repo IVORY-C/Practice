{
 "nbformat": 4,
 "nbformat_minor": 2,
 "metadata": {
  "language_info": {
   "name": "python",
   "codemirror_mode": {
    "name": "ipython",
    "version": 3
   },
   "version": "3.7.6-final"
  },
  "orig_nbformat": 2,
  "file_extension": ".py",
  "mimetype": "text/x-python",
  "name": "python",
  "npconvert_exporter": "python",
  "pygments_lexer": "ipython3",
  "version": 3,
  "kernelspec": {
   "name": "python3",
   "display_name": "Python 3"
  }
 },
 "cells": [
  {
   "cell_type": "code",
   "execution_count": 4,
   "metadata": {},
   "outputs": [],
   "source": [
    "class Josephus:\n",
    "    '约瑟夫环-面向对象'\n",
    "\n",
    "    def __init__(self, step, start, target):\n",
    "        self.step = step\n",
    "        self.start = start\n",
    "        self.target = target\n",
    "\n",
    "    def josephus_bymod(self):#step,interval\n",
    "        n = len(self.target)\n",
    "        sequence = list(range(n))\n",
    "        result = []\n",
    "\n",
    "        rank = self.start\n",
    "        for i in range(n):\n",
    "            rank = (rank + self.step - 1) % len(self.target)\n",
    "            index = self.target.pop(rank)\n",
    "            result.append(index) \n",
    "        \n",
    "        return result\n",
    "\n",
    "    def josephus_circular(self):#用函数之间的差别命名\n",
    "        n = len(self.target)\n",
    "        result = []\n",
    "\n",
    "        self.target = self.target[self.start:] + self.target[:self.start] #一开始先把第一个放在最前\n",
    "\n",
    "        for i in range(n):\n",
    "            self.target = self.target[self.step-1:] + self.target[:self.step-1]\n",
    "            index = self.target.pop(0)\n",
    "            result.append(index)\n",
    "\n",
    "        return result\n",
    ""
   ]
  },
  {
   "cell_type": "code",
   "execution_count": 12,
   "metadata": {},
   "outputs": [],
   "source": [
    "def print_result(result):\n",
    "    n = len(result)   \n",
    "\n",
    "    print(\"输入对象为：\", end=\"\")\n",
    "    for i in range(n):\n",
    "        print(result[i], end=\" \")\n",
    "\n",
    "    print(\"\\n出列顺序为：\", end=\"\")\n",
    "    for i in range(0,n-1):\n",
    "        print(result[i], end=\" \")  \n",
    "                 \n",
    "    print(\"\\n获胜者编号为：%s\" %result[n-1])"
   ]
  },
  {
   "cell_type": "code",
   "execution_count": 11,
   "metadata": {},
   "outputs": [
    {
     "output_type": "stream",
     "name": "stdout",
     "text": "输入对象为：Rick Beth Morty Jerry Summer \n出列顺序为：Rick Beth Morty Jerry \n获胜者编号为：Summer\n"
    }
   ],
   "source": [
    "target = ['Morty','Rick','Summer','Beth','Jerry']\n",
    "\n",
    "j = Josephus(2, 0, target)\n",
    "result = j.josephus_bymod()\n",
    "print_result(result)"
   ]
  },
  {
   "cell_type": "code",
   "execution_count": null,
   "metadata": {},
   "outputs": [],
   "source": []
  }
 ]
}