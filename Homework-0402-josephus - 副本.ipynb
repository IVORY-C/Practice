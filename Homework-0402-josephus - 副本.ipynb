{
 "nbformat": 4,
 "nbformat_minor": 2,
 "metadata": {
  "language_info": {
   "name": "python",
   "codemirror_mode": {
    "name": "ipython",
    "version": 3
   },
   "version": "3.7.6-final"
  },
  "orig_nbformat": 2,
  "file_extension": ".py",
  "mimetype": "text/x-python",
  "name": "python",
  "npconvert_exporter": "python",
  "pygments_lexer": "ipython3",
  "version": 3,
  "kernelspec": {
   "name": "python3",
   "display_name": "Python 3"
  }
 },
 "cells": [
  {
   "cell_type": "code",
   "execution_count": 23,
   "metadata": {
    "tags": [
     "outputPrepend",
     "outputPrepend",
     "outputPrepend",
     "outputPrepend",
     "outputPrepend",
     "outputPrepend",
     "outputPrepend",
     "outputPrepend",
     "outputPrepend",
     "outputPrepend",
     "outputPrepend",
     "outputPrepend",
     "outputPrepend",
     "outputPrepend",
     "outputPrepend",
     "outputPrepend",
     "outputPrepend",
     "outputPrepend",
     "outputPrepend",
     "outputPrepend",
     "outputPrepend",
     "outputPrepend",
     "outputPrepend",
     "outputPrepend",
     "outputPrepend",
     "outputPrepend",
     "outputPrepend",
     "outputPrepend",
     "outputPrepend",
     "outputPrepend",
     "outputPrepend",
     "outputPrepend",
     "outputPrepend"
    ]
   },
   "outputs": [],
   "source": [
    "#约瑟夫环\n",
    "#从1开始循环\n",
    "\n",
    "#使用del时，python的内部调用是直接调用字节码，del为一个语句\n",
    "#使用remove或pop时调用的是函数\n",
    "#调用字节码比调用函数更快\n",
    "\n",
    "#n为参与总人数，call为报数间隔\n",
    "def josephus_1(n,call):\n",
    "    link = list(range(1,n+1))\n",
    "    result = [0 for i in range(n)]\n",
    "\n",
    "    rank = 0\n",
    "    for i in range(n):\n",
    "        rank = (rank + call) % len(link)\n",
    "        rank -= 1\n",
    "        result[i] = link[rank]\n",
    "        del link[rank]\n",
    "        if rank == -1:\n",
    "            rank = 0\n",
    "    \n",
    "    return result\n",
    "\n",
    "assert josephus_1(5,2) == [2,4,1,5,3]\n",
    "assert josephus_1(10,4) == [4,8,2,7,3,10,9,1,6,5]\n",
    "\n",
    "\n",
    "\n",
    ""
   ]
  },
  {
   "cell_type": "code",
   "execution_count": 1,
   "metadata": {},
   "outputs": [],
   "source": [
    "def josephus_2(n,call):\n",
    "    link = list(range(1,n+1))\n",
    "    result = [0 for i in range(n)]\n",
    "\n",
    "    count = 0\n",
    "    i = 0\n",
    "    while link:\n",
    "        index = link.pop(0)\n",
    "        count += 1\n",
    "        if count == call:\n",
    "            count = 0\n",
    "            result[i] = index\n",
    "            i += 1\n",
    "            continue\n",
    "        link.append(index)\n",
    "    return result\n",
    "\n",
    "assert josephus_2(5,2) == [2,4,1,5,3]\n",
    "assert josephus_2(10,4) == [4,8,2,7,3,10,9,1,6,5]\n",
    "\n",
    "    "
   ]
  },
  {
   "cell_type": "code",
   "execution_count": 28,
   "metadata": {},
   "outputs": [
    {
     "output_type": "stream",
     "name": "stdout",
     "text": "出列顺序为：2 4 1 5 \n获胜者编号为：3\n"
    }
   ],
   "source": [
    "try:\n",
    "    n,call = map(int,input(\"请输入参与总人数和报数间隔，用空格隔开\").split())\n",
    "except Exception as e:\n",
    "    print(\"输入的值必须是整型数字，并用空格隔开\")\n",
    "else:\n",
    "    if (n <= 0) or (call <= 0):\n",
    "        raise Exception(\"输入的值必须为正整数\")\n",
    "    \n",
    "    result = josephus_1(n,call)\n",
    "    print(\"出列顺序为：\", end=\"\")\n",
    "    for i in range(0,n-1):\n",
    "        print(result[i], end=\" \")           \n",
    "    print(\"\\n获胜者编号为：%d\" %result[n-1])"
   ]
  },
  {
   "cell_type": "code",
   "execution_count": 2,
   "metadata": {},
   "outputs": [
    {
     "output_type": "stream",
     "name": "stdout",
     "text": "出列顺序为：2 4 1 5 \n获胜者编号为：3\n"
    }
   ],
   "source": [
    "try:\n",
    "    n,call = map(int,input(\"请输入参与总人数和报数间隔，用空格隔开\").split())\n",
    "except Exception as e:\n",
    "    print(\"输入的值必须是整型数字，并用空格隔开\")\n",
    "else:\n",
    "    if (n <= 0) or (call <= 0):\n",
    "        raise Exception(\"输入的值必须为正整数\")\n",
    "    \n",
    "    result = josephus_2(n,call)\n",
    "    print(\"出列顺序为：\", end=\"\")\n",
    "    for i in range(0,n-1):\n",
    "        print(result[i], end=\" \")           \n",
    "    print(\"\\n获胜者编号为：%d\" %result[n-1])"
   ]
  },
  {
   "cell_type": "code",
   "execution_count": null,
   "metadata": {},
   "outputs": [],
   "source": []
  }
 ]
}