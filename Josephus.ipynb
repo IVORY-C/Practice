{
 "nbformat": 4,
 "nbformat_minor": 2,
 "metadata": {
  "language_info": {
   "name": "python",
   "codemirror_mode": {
    "name": "ipython",
    "version": 3
   },
   "version": "3.7.6-final"
  },
  "orig_nbformat": 2,
  "file_extension": ".py",
  "mimetype": "text/x-python",
  "name": "python",
  "npconvert_exporter": "python",
  "pygments_lexer": "ipython3",
  "version": 3,
  "kernelspec": {
   "name": "python3",
   "display_name": "Python 3"
  }
 },
 "cells": [
  {
   "cell_type": "code",
   "execution_count": 12,
   "metadata": {},
   "outputs": [],
   "source": [
    "class Person(object):\n",
    "    def __init__(self):\n",
    "        self.name = 0\n",
    "        self.age = 0\n",
    "        self.gender = 0"
   ]
  },
  {
   "cell_type": "code",
   "execution_count": 13,
   "metadata": {},
   "outputs": [],
   "source": [
    "import copy\n",
    "class Josephus:\n",
    "    '约瑟夫环'\n",
    "\n",
    "    def __init__(self):\n",
    "        self.people = []\n",
    "        self.step = 0\n",
    "        self.start = 1\n",
    "\n",
    "    def append(self, obj):\n",
    "        self.people.append(obj)\n",
    "\n",
    "    def pop(self):\n",
    "        self.people.pop(0)\n",
    "\n",
    "    def query_list(self):\n",
    "        return self.people\n",
    "\n",
    "    def len_list(self):\n",
    "        return len(self.people)\n",
    "\n",
    "    def reset(self):\n",
    "        self.people = []\n",
    "        self.step = 0\n",
    "        self.start = 1\n",
    "\n",
    "    def next_bymod(self):\n",
    "        temp = copy.copy(self.people)\n",
    "        length = len(temp)\n",
    "        if length == 0:\n",
    "            return None\n",
    "        id_ = self.start\n",
    "\n",
    "        for i in range(length):\n",
    "            id_ = (id_ + self.step - 1) % len(temp)\n",
    "            index = temp.pop(id_)\n",
    "            yield index\n",
    "\n",
    "    def next_circular(self):\n",
    "        temp = copy.copy(self.people)\n",
    "        if len(temp) == 0:\n",
    "            return None\n",
    "\n",
    "        index = 1\n",
    "        start = self.start % len(temp)\n",
    "        temp = temp[start:] + temp[:start]\n",
    "\n",
    "        while index:\n",
    "            head = (self.step-1) % len(temp)\n",
    "            temp = temp[head:] + temp[:head]\n",
    "            index = temp.pop(0)\n",
    "            yield index\n",
    ""
   ]
  },
  {
   "cell_type": "code",
   "execution_count": 14,
   "metadata": {},
   "outputs": [],
   "source": [
    "import csv\n",
    "import os\n",
    "import zipfile\n",
    "class ReadFile:#返回二维数组\n",
    "    def __init__(self):\n",
    "        self.path = 0\n",
    "        self.file_type = 0\n",
    "\n",
    "    def read_file(self, path):\n",
    "        self.file_type = os.path.splitext(path)[1]\n",
    "        if self.file_type == '.txt' or self.file_type == '.csv':\n",
    "            return self.read_txt_and_csv(path)\n",
    "        if self.file_type == '.zip':\n",
    "            return self.read_zip(path)\n",
    "\n",
    "    def read_txt_and_csv(self, path):\n",
    "        data = []\n",
    "        if self.file_type == '.txt':\n",
    "            file_ = open(path, 'r', encoding='UTF-8')\n",
    "        if self.file_type == '.csv':\n",
    "            file_ = open(path, 'r', encoding='gbk')\n",
    "\n",
    "        line = file_.readline().strip()\n",
    "        if line == '':\n",
    "            return None\n",
    "\n",
    "        while line:\n",
    "            index = line.split(',')\n",
    "            data.append(index)\n",
    "            line = file_.readline().strip()\n",
    "\n",
    "        return data\n",
    "\n",
    "    def read_zip(self, path):\n",
    "        zip_file = zipfile.ZipFile(path, 'r')\n",
    "        file_list = zip_file.namelist()\n",
    "        option = input(\"请从中选择一个{}\". format(file_list))\n",
    "        option_path = zip_file.extract(option)\n",
    "        zip_file.close()\n",
    "        return self.read_file(option_path)\n",
    "\n",
    "       "
   ]
  },
  {
   "cell_type": "code",
   "execution_count": 15,
   "metadata": {},
   "outputs": [],
   "source": [
    "def create_person(name, age, gender):\n",
    "    obj = Person()\n",
    "    obj.name = name\n",
    "    obj.age = age \n",
    "    obj.gender = gender\n",
    "    \n",
    "    return obj\n",
    "    "
   ]
  },
  {
   "cell_type": "code",
   "execution_count": 16,
   "metadata": {},
   "outputs": [],
   "source": [
    "ring = Josephus()\n",
    "ring.reset()\n",
    "ring.start = 6\n",
    "ring.step = 3\n",
    "\n",
    "# ring.append(create_person('Morty', 12, '男'))\n",
    "# ring.append(create_person('Rick', 53, '男'))\n",
    "# ring.append(create_person('Summer', 16, '女'))\n",
    "# ring.append(create_person('Beth', 34, '女'))\n",
    "# ring.append(create_person('Jerry', 36, '男'))\n",
    "\n",
    ""
   ]
  },
  {
   "cell_type": "code",
   "execution_count": 17,
   "metadata": {},
   "outputs": [
    {
     "output_type": "execute_result",
     "data": {
      "text/plain": "[['Morty', '12', '男'],\n ['Rick', '53', '男'],\n ['Summer', '16', '女'],\n ['Beth', '34', '女'],\n ['Jerry', '36', '男']]"
     },
     "metadata": {},
     "execution_count": 17
    }
   ],
   "source": [
    "reader = ReadFile()\n",
    "path = 'zip.zip'\n",
    "data = reader.read_file(path)\n",
    "data"
   ]
  },
  {
   "cell_type": "code",
   "execution_count": 18,
   "metadata": {},
   "outputs": [],
   "source": [
    "for i in range(len(data)):\n",
    "    person = create_person(data[i][0], data[i][1], data[i][2])\n",
    "    ring.append(person)"
   ]
  },
  {
   "cell_type": "code",
   "execution_count": 19,
   "metadata": {},
   "outputs": [
    {
     "output_type": "stream",
     "name": "stdout",
     "text": "第1个出列的人:Beth；年龄:34；性别:女\n第2个出列的人:Rick；年龄:53；性别:男\n第3个出列的人:Morty；年龄:12；性别:男\n第4个出列的人:Summer；年龄:16；性别:女\n第5个出列的人:Jerry；年龄:36；性别:男\n------------------------------\n第1个出列的人:Beth；年龄:34；性别:女\n第2个出列的人:Rick；年龄:53；性别:男\n第3个出列的人:Morty；年龄:12；性别:男\n第4个出列的人:Summer；年龄:16；性别:女\n第5个出列的人:Jerry；年龄:36；性别:男\n"
    }
   ],
   "source": [
    "length = ring.len_list()\n",
    "\n",
    "generator_bymod = ring.next_bymod()\n",
    "for i in range(length):\n",
    "    index = next(generator_bymod)\n",
    "    print(\"第{}个出列的人:{}；年龄:{}；性别:{}\". format(i+1, index.name, index.age, index.gender))\n",
    "\n",
    "print('-'*30)\n",
    "\n",
    "generator_circular = ring.next_circular()\n",
    "for i in range(length):\n",
    "    index = next(generator_circular)\n",
    "    print(\"第{}个出列的人:{}；年龄:{}；性别:{}\". format(i+1, index.name, index.age, index.gender))"
   ]
  },
  {
   "cell_type": "code",
   "execution_count": null,
   "metadata": {},
   "outputs": [],
   "source": []
  }
 ]
}