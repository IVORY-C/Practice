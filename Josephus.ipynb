{
 "nbformat": 4,
 "nbformat_minor": 2,
 "metadata": {
  "language_info": {
   "name": "python",
   "codemirror_mode": {
    "name": "ipython",
    "version": 3
   },
   "version": "3.7.6-final"
  },
  "orig_nbformat": 2,
  "file_extension": ".py",
  "mimetype": "text/x-python",
  "name": "python",
  "npconvert_exporter": "python",
  "pygments_lexer": "ipython3",
  "version": 3,
  "kernelspec": {
   "name": "python3",
   "display_name": "Python 3"
  }
 },
 "cells": [
  {
   "cell_type": "code",
   "execution_count": 162,
   "metadata": {},
   "outputs": [],
   "source": [
    "class Person(object):\n",
    "    def __init__(self):\n",
    "        self.name = 0\n",
    "        self.age = 0\n",
    "        self.gender = 0"
   ]
  },
  {
   "cell_type": "code",
   "execution_count": 163,
   "metadata": {},
   "outputs": [],
   "source": [
    "import copy\n",
    "class Josephus:\n",
    "    '约瑟夫环'\n",
    "\n",
    "    def __init__(self):\n",
    "        self.people = []\n",
    "        self.step = 0\n",
    "        self.start = 1\n",
    "\n",
    "        self.temp = self.people\n",
    "        self.current_id = 0\n",
    "        self.length = 0\n",
    "\n",
    "    def append(self, obj):\n",
    "        self.people.append(obj)\n",
    "\n",
    "    def pop(self):\n",
    "        self.people.pop(0)\n",
    "\n",
    "    def query_list(self):\n",
    "        return self.people\n",
    "\n",
    "    def reset(self):\n",
    "        self.current_id = self.start\n",
    "        self.length = len(self.people)\n",
    "        self.temp = copy.copy(self.people)\n",
    "\n",
    "    def next_bymod(self):\n",
    "        length = len(self.temp)\n",
    "        if length == 0:\n",
    "            return None\n",
    "\n",
    "        id_ = (self.current_id + self.step - 1) % length\n",
    "        index = self.temp.pop(id_)\n",
    "        self.current_id = id_\n",
    "\n",
    "        return index\n",
    "\n",
    "    def next_circular(self):\n",
    "        length = len(self.temp)\n",
    "        if length == 0:\n",
    "            return None\n",
    "\n",
    "        id_ = (self.current_id + self.step - 1) % length\n",
    "        self.temp = self.temp[id_:] + self.temp[:id_]\n",
    "        index = self.temp.pop(0)\n",
    "        self.current_id = id_\n",
    "\n",
    "        return index\n",
    "\n",
    "\n",
    "    def create_generator(self):\n",
    "        temp = copy.deepcopy(self.people)\n",
    "        length = len(temp)\n",
    "        id_ = self.start\n",
    "\n",
    "        for i in range(length):\n",
    "            id_ = (id_ + self.step - 1) % len(temp)\n",
    "            index = temp.pop(id_)\n",
    "            yield index\n",
    ""
   ]
  },
  {
   "cell_type": "code",
   "execution_count": 164,
   "metadata": {},
   "outputs": [],
   "source": [
    "def create_person(name, age, gender):\n",
    "    obj = Person()\n",
    "    obj.name = name\n",
    "    obj.age = age \n",
    "    obj.gender = gender\n",
    "    \n",
    "    return obj\n",
    "    "
   ]
  },
  {
   "cell_type": "code",
   "execution_count": 165,
   "metadata": {},
   "outputs": [],
   "source": [
    "ring = Josephus()\n",
    "ring.start = 6\n",
    "ring.step = 3\n",
    "\n",
    "ring.append(create_person('Morty', 12, '男'))\n",
    "ring.append(create_person('Rick', 53, '男'))\n",
    "ring.append(create_person('Summer', 16, '女'))\n",
    "ring.append(create_person('Beth', 34, '女'))\n",
    "ring.append(create_person('Jerry', 36, '男'))\n",
    ""
   ]
  },
  {
   "cell_type": "code",
   "execution_count": 166,
   "metadata": {},
   "outputs": [
    {
     "output_type": "stream",
     "name": "stdout",
     "text": "第1个出列的人：Beth；年龄：34；性别：女\n第2个出列的人：Rick；年龄：53；性别：男\n第3个出列的人：Morty；年龄：12；性别：男\n第4个出列的人：Summer；年龄：16；性别：女\n第5个出列的人：Jerry；年龄：36；性别：男\n"
    }
   ],
   "source": [
    "#使用生成器\n",
    "ring.reset()\n",
    "generator = ring.create_generator()\n",
    "\n",
    "for i in range(ring.length):\n",
    "    index = next(generator)\n",
    "    print(\"第{}个出列的人：{}；年龄：{}；性别：{}\". format(i+1, index.name, index.age, index.gender))\n",
    ""
   ]
  },
  {
   "cell_type": "code",
   "execution_count": 167,
   "metadata": {},
   "outputs": [
    {
     "output_type": "stream",
     "name": "stdout",
     "text": "第1个出列的人：Beth；年龄：34；性别：女\n第2个出列的人：Rick；年龄：53；性别：男\n第3个出列的人：Morty；年龄：12；性别：男\n第4个出列的人：Summer；年龄：16；性别：女\n第5个出列的人：Jerry；年龄：36；性别：男\n------------------------------\n第1个出列的人：Beth；年龄：34；性别：女\n第2个出列的人：Morty；年龄：12；性别：男\n第3个出列的人：Rick；年龄：53；性别：男\n第4个出列的人：Summer；年龄：16；性别：女\n第5个出列的人：Jerry；年龄：36；性别：男\n"
    }
   ],
   "source": [
    "ring.reset()\n",
    "for i in range(ring.length):\n",
    "    index = ring.next_bymod()\n",
    "    if index:\n",
    "        print(\"第{}个出列的人：{}；年龄：{}；性别：{}\". format(i+1, index.name, index.age, index.gender))\n",
    "\n",
    "print('-'*30)\n",
    "\n",
    "ring.reset()\n",
    "for i in range(ring.length):\n",
    "    index = ring.next_circular()\n",
    "    if index:\n",
    "        print(\"第{}个出列的人：{}；年龄：{}；性别：{}\". format(i+1, index.name, index.age, index.gender))"
   ]
  },
  {
   "cell_type": "code",
   "execution_count": null,
   "metadata": {},
   "outputs": [],
   "source": []
  }
 ]
}