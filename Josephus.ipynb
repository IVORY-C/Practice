{
 "cells": [
  {
   "cell_type": "code",
   "execution_count": 12,
   "metadata": {},
   "outputs": [],
   "source": [
    "class Person(object):\n",
    "    def __init__(self, name, age, gender):\n",
    "        self.name = name\n",
    "        self.age = age\n",
    "        self.gender = gender\n",
    "\n",
    "    @classmethod\n",
    "    def create_from_line(cls, line):\n",
    "        obj = cls()\n",
    "        person_data = line.strip().replace(' ','').split(',')\n",
    "        obj.name = person_data[0]\n",
    "        obj.age = person_data[1]\n",
    "        obj.gender = person_data[2]\n",
    "\n",
    "        return obj\n"
   ]
  },
  {
   "cell_type": "code",
   "execution_count": 58,
   "metadata": {},
   "outputs": [],
   "source": [
    "import copy\n",
    "import csv\n",
    "import os\n",
    "import zipfile\n",
    "class Josephus:\n",
    "    '约瑟夫环'\n",
    "\n",
    "    def __init__(self, reader):\n",
    "        self._people = []\n",
    "        if reader:\n",
    "            for each in reader:\n",
    "                self._people.append(Person.create_from_line(each))\n",
    "        self.step = 0\n",
    "        self.start = 1\n",
    "\n",
    "\n",
    "    def append(self, obj):\n",
    "        self._people.append(obj)\n",
    "\n",
    "    def pop(self):\n",
    "        self._people.pop(0)\n",
    "\n",
    "    def query_list(self):\n",
    "        return self._people\n",
    "\n",
    "    def len_list(self):\n",
    "        return len(self._people)\n",
    "\n",
    "    def next_bymod(self):\n",
    "        temp = copy.copy(self._people)\n",
    "        length = len(temp)\n",
    "        if length == 0:\n",
    "            return None\n",
    "        id_ = self.start\n",
    "\n",
    "        for i in range(length):\n",
    "            id_ = (id_ + self.step - 1) % len(temp)\n",
    "            index = temp.pop(id_)\n",
    "            yield index\n",
    "\n",
    "    def next_circular(self):\n",
    "        temp = copy.copy(self._people)\n",
    "        if len(temp) == 0:\n",
    "            return None\n",
    "\n",
    "        index = 1\n",
    "        start = self.start % len(temp)\n",
    "        temp = temp[start:] + temp[:start]\n",
    "\n",
    "        while index:\n",
    "            head = (self.step-1) % len(temp)\n",
    "            temp = temp[head:] + temp[:head]\n",
    "            index = temp.pop(0)\n",
    "            yield index\n",
    "\n",
    "    # @classmethod\n",
    "    # def create_from_file(cls, path):\n",
    "    #     file_type = os.path.splitext(path)[1]\n",
    "    #     if file_type == '.txt': \n",
    "    #         return cls._create_from_txt(path)\n",
    "    #     if file_type == '.csv':\n",
    "    #         return cls._create_from_csv(path)\n",
    "    #     if file_type == '.zip':\n",
    "    #         return cls._create_from_zip(path, self.file_name)\n",
    "\n",
    "    # @classmethod\n",
    "    # def _create_from_txt(cls, path):\n",
    "    #     obj = cls()\n",
    "        \n",
    "    #     with open(path, 'r', encoding='utf-8') as fp:\n",
    "    #         # read_txt = fp.readlines()\n",
    "    #         for row in fp:\n",
    "    #             data = row.strip().split(',')\n",
    "    #             obj.append(Person(data[0], data[1], data[2]))\n",
    "\n",
    "    #     return obj\n",
    "\n",
    "    # @classmethod\n",
    "    # def _create_from_csv(cls, path):\n",
    "    #     obj = cls()\n",
    "\n",
    "    #     with open(path, 'r') as fp:\n",
    "    #         read_csv = csv.reader(fp)\n",
    "    #         for data in read_csv:#type(data) = 'list'\n",
    "    #             obj.append(Person(data[0], data[1], data[2]))\n",
    "\n",
    "    #     return obj\n",
    "\n",
    "    # @classmethod\n",
    "    # def _create_from_zip(cls, path, file_name):\n",
    "    #     with zipfile.ZipFile(path, 'r') as fp:\n",
    "    #         file_path = fp.extract(file_name)\n",
    "\n",
    "    #     return cls.create_from_file(option_path)\n"
   ]
  },
  {
   "cell_type": "code",
   "execution_count": null,
   "metadata": {},
   "outputs": [],
   "source": [
    "class ReadFile:\n",
    "    def __init__(self):\n",
    "        self.path = 0\n",
    "\n",
    "    def read_txt(self):\n",
    "        with open(self.path, 'r', encoding='utf-8') as fp:\n",
    "            reader = fp.readlines()\n",
    "        return reader\n",
    "\n",
    "    def read_csv(self):\n",
    "        with open(self.path, 'r', encoding='gbk') as fp:\n",
    "            reader = fp.readlines()\n",
    "        return reader\n",
    "\n",
    "    def read_zip(self, file_name):\n",
    "        with open(path, 'r') as fp:\n",
    "            file_path = fp.extract(file_name)\n",
    "\n",
    "        file_type = file_name.split('.')[1]\n",
    "\n",
    "        if file_type = 'txt':\n",
    "            return self.create_from_txt(file_path)\n",
    "        if file_type = 'csv':\n",
    "            return self.create_from_csv(file_path)\n",
    "\n"
   ]
  },
  {
   "cell_type": "code",
   "execution_count": 11,
   "metadata": {},
   "outputs": [
    {
     "output_type": "stream",
     "name": "stdout",
     "text": "['Morty, 12, 男\\n', 'Rick, 53, 男\\n', 'Summer, 16, 女\\n', 'Beth, 34, 女\\n', 'Jerry, 36, 男']\n"
    }
   ],
   "source": [
    "\n",
    "with open('people.txt', 'r',encoding = 'utf-8') as fp:\n",
    "    \n",
    "print(reader)"
   ]
  },
  {
   "cell_type": "code",
   "execution_count": 59,
   "metadata": {},
   "outputs": [
    {
     "output_type": "stream",
     "name": "stdout",
     "text": "{'_Josephus__people': [<__main__.Person object at 0x0000021313D9D8C8>, <__main__.Person object at 0x0000021313FAFE48>, <__main__.Person object at 0x0000021313FAF4C8>, <__main__.Person object at 0x0000021313CE5A08>, <__main__.Person object at 0x0000021313C6C148>], 'step': 2, 'start': 0}\n"
    }
   ],
   "source": [
    "path = 'people.zip'\n",
    "ring = Josephus.create_from_file(path)\n",
    "ring.start = 0\n",
    "ring.step = 2\n",
    "print(ring.__dict__)\n",
    ""
   ]
  },
  {
   "cell_type": "code",
   "execution_count": 60,
   "metadata": {},
   "outputs": [
    {
     "output_type": "stream",
     "name": "stdout",
     "text": "第1个出列的人:Rick；年龄: 53；性别: 男\n第2个出列的人:Beth；年龄: 34；性别: 女\n第3个出列的人:Morty；年龄: 12；性别: 男\n第4个出列的人:Jerry；年龄: 36；性别: 男\n第5个出列的人:Summer；年龄: 16；性别: 女\n------------------------------\n第1个出列的人:Rick；年龄: 53；性别: 男\n第2个出列的人:Beth；年龄: 34；性别: 女\n第3个出列的人:Morty；年龄: 12；性别: 男\n第4个出列的人:Jerry；年龄: 36；性别: 男\n第5个出列的人:Summer；年龄: 16；性别: 女\n"
    }
   ],
   "source": [
    "length = ring.len_list()\n",
    "\n",
    "generator_bymod = ring.next_bymod()\n",
    "for i in range(length):\n",
    "    someone = next(generator_bymod)\n",
    "    print(\"第{}个出列的人:{}；年龄:{}；性别:{}\". format(i+1, someone.name, someone.age, someone.gender))\n",
    "\n",
    "print('-'*30)\n",
    "\n",
    "generator_circular = ring.next_circular()\n",
    "for i in range(length):\n",
    "    someone = next(generator_circular)\n",
    "    print(\"第{}个出列的人:{}；年龄:{}；性别:{}\". format(i+1, someone.name, someone.age, someone.gender))"
   ]
  },
  {
   "cell_type": "code",
   "execution_count": null,
   "metadata": {},
   "outputs": [],
   "source": []
  }
 ],
 "metadata": {
  "language_info": {
   "name": "python",
   "codemirror_mode": {
    "name": "ipython",
    "version": 3
   },
   "version": "3.7.6-final"
  },
  "orig_nbformat": 2,
  "file_extension": ".py",
  "mimetype": "text/x-python",
  "name": "python",
  "npconvert_exporter": "python",
  "pygments_lexer": "ipython3",
  "version": 3,
  "kernelspec": {
   "name": "python3",
   "display_name": "Python 3"
  }
 },
 "nbformat": 4,
 "nbformat_minor": 2
}