{
 "nbformat": 4,
 "nbformat_minor": 2,
 "metadata": {
  "language_info": {
   "name": "python",
   "codemirror_mode": {
    "name": "ipython",
    "version": 3
   },
   "version": "3.7.6-final"
  },
  "orig_nbformat": 2,
  "file_extension": ".py",
  "mimetype": "text/x-python",
  "name": "python",
  "npconvert_exporter": "python",
  "pygments_lexer": "ipython3",
  "version": 3,
  "kernelspec": {
   "name": "python3",
   "display_name": "Python 3"
  }
 },
 "cells": [
  {
   "cell_type": "code",
   "execution_count": 33,
   "metadata": {},
   "outputs": [
    {
     "output_type": "stream",
     "name": "stdout",
     "text": "输入的值必须是整型数字\n"
    }
   ],
   "source": [
    "def swap(a,b):\n",
    "    return b,a\n",
    "\n",
    "try:\n",
    "    a,b = map(int,input(\"请输入两个数字，用空格隔开\").split())\n",
    "except Exception as e:\n",
    "    print(\"输入的值必须是整型数字，且用空格隔开\")\n",
    "else:\n",
    "    a,b = swap(a,b)\n",
    "    print(\"结果： %d,%d.\" %(a,b))\n",
    "\n"
   ]
  },
  {
   "cell_type": "code",
   "execution_count": 14,
   "metadata": {},
   "outputs": [
    {
     "output_type": "stream",
     "name": "stdout",
     "text": "输入的值不是一个数字，请输入一个数字\n"
    }
   ],
   "source": [
    "def celsius_to_fahrenheit(temp):\n",
    "    return (temp * 1.8) + 32    \n",
    "    \n",
    "try:\n",
    "    celsius = float(input('请输入摄氏温度')) \n",
    "except Exception as e:\n",
    "    print(\"输入的值不是数字，请输入一个数字\")\n",
    "else:\n",
    "    fahrenheit = celsius_to_fahrenheit(celsius)\n",
    "    print(\"结果： %.5f.\" % fahrenheit)\n"
   ]
  },
  {
   "cell_type": "code",
   "execution_count": 31,
   "metadata": {},
   "outputs": [
    {
     "output_type": "stream",
     "name": "stdout",
     "text": "输入的值不是数字，请输入一个数字\n"
    }
   ],
   "source": [
    "def sum_number(num):\n",
    "    num = abs(num)\n",
    "    while (num % 1) != 0:\n",
    "        num = num * 10\n",
    "    \n",
    "    sum = 0\n",
    "    while(num != 0):\n",
    "        sum += (num % 10)       #取num的个位\n",
    "        num = int(num/10)       #每次都需将num转换成整型，只要没除尽就会变成浮点型\n",
    "\n",
    "    return sum\n",
    "\n",
    "assert sum_number(234) == 9 \n",
    "assert sum_number(12345) == 15\n",
    "assert sum_number(2.34) == 9 \n",
    "\n",
    "try:\n",
    "    num = float(input('请输入一个数字，可为整数、小数、负数')) #input函数默认为str类型，需将输入值设定为浮点型\n",
    "except Exception as e:\n",
    "    print(\"输入的值不是数字，请输入一个数字\")    \n",
    "else:\n",
    "    sum = sum_number(num)\n",
    "    print(\"结果：\" %d\" %sum)\n"
   ]
  },
  {
   "cell_type": "code",
   "execution_count": 17,
   "metadata": {},
   "outputs": [
    {
     "output_type": "stream",
     "name": "stdout",
     "text": "输入的值必须是整型数字\n"
    }
   ],
   "source": [
    "def is_prime(num):\n",
    "    min_prime = 2\n",
    "    if num < min_prime:         #小于2的所有整数都不是素数\n",
    "        return False \n",
    "    else:                       #判断从3开始的整数是否为素数\n",
    "        max_range = int(num/2 + 1)\n",
    "        for i in range(2,max_range):\n",
    "            if num % i == 0:\n",
    "                return False\n",
    "        else:\n",
    "            return True\n",
    "\n",
    "\n",
    "assert is_prime(2) == True\n",
    "assert is_prime(11) == True\n",
    "assert is_prime(6) == False\n",
    "\n",
    "\n",
    "try:\n",
    "    num = int(input(\"请输入一个整数\"))\n",
    "except Exception as e:\n",
    "    print(\"输入的值必须是整型数字\")    \n",
    "else:   \n",
    "    if is_prime(a):\n",
    "        print(\"%d 是一个素数\" %num)\n",
    "    else:\n",
    "        print(\"%d 不是一个素数\" %num)\n",
    "\n",
    "\n"
   ]
  },
  {
   "cell_type": "code",
   "execution_count": 27,
   "metadata": {},
   "outputs": [
    {
     "output_type": "stream",
     "name": "stdout",
     "text": "输入的值必须是整型数字\n"
    }
   ],
   "source": [
    "def random_number(min,max):\n",
    "    import random                       #导入random函数\n",
    "    return random.randint(min,max)      #随机数范围包括max的值\n",
    "\n",
    "\n",
    "try:\n",
    "    min,max = map(int,input(\"请输入随机数的最小值和最大值，用空格隔开\").split())\n",
    "except Exception as e:\n",
    "    print(\"输入的值必须是整型数字，且用空格隔开\") \n",
    "else:\n",
    "    if min > max:\n",
    "        raise Exception(\"请将先写最小值，后写最大值\")\n",
    "    print(random_number(min,max))   #包括max的值\n",
    "\n"
   ]
  },
  {
   "cell_type": "code",
   "execution_count": 29,
   "metadata": {},
   "outputs": [
    {
     "output_type": "stream",
     "name": "stdout",
     "text": "输入的值必须是整型数字\n"
    }
   ],
   "source": [
    "def delete_duplicate(nums):\n",
    "    #先将数组进行排序,冒泡排序\n",
    "    j = 0\n",
    "    count = len(nums)\n",
    "    for i in range(count):\n",
    "        for j in range(i+1, count):\n",
    "            if nums[i] > nums[j]:\n",
    "                nums[i], nums[j] = nums[j], nums[i]\n",
    "\n",
    "    #将每个不重复的项往数组的前面放\n",
    "    j = 0\n",
    "    for i in range(0,len(nums)):\n",
    "        #如果第i个元素不等于第j个元素，则将第i个元素赋值给第j+1个元素\n",
    "        if nums[i] != nums[j]:\n",
    "            nums[j+1] = nums[i]\n",
    "            j += 1\n",
    "\n",
    "    return nums[0:j+1]        #最后结果为nums数组的第0到j个元素\n",
    "\n",
    "assert delete_duplicate([2,4,3,4,2]) == [2,3,4]\n",
    "    \n",
    "try:  \n",
    "    array = [int(n) for n in input(\"请输入一串数字，用空格隔开\").split()]\n",
    "except Exception as e:\n",
    "    print(\"输入的值必须是整型数字，且用空格隔开\") \n",
    "else:\n",
    "    array = delete_duplicate(array)\n",
    "    print(array)\n"
   ]
  },
  {
   "cell_type": "markdown",
   "metadata": {},
   "source": [
    "\n"
   ]
  },
  {
   "cell_type": "code",
   "execution_count": null,
   "metadata": {},
   "outputs": [],
   "source": []
  }
 ]
}